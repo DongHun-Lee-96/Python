{
 "cells": [
  {
   "cell_type": "markdown",
   "metadata": {},
   "source": [
    "### Library"
   ]
  },
  {
   "cell_type": "code",
   "execution_count": 4,
   "metadata": {},
   "outputs": [],
   "source": [
    "import pickle\n",
    "f = open(\"test.txt\", 'wb')  # this is written as binary format\n",
    "data = {1: 'all', 2: 'you need', 3 : 'need'}\n",
    "pickle.dump(data, f)\n",
    "f.close()"
   ]
  },
  {
   "cell_type": "code",
   "execution_count": 6,
   "metadata": {},
   "outputs": [
    {
     "name": "stdout",
     "output_type": "stream",
     "text": [
      "{1: 'all', 2: 'you need', 3: 'need'}\n"
     ]
    }
   ],
   "source": [
    "f = open(\"test.txt\", 'rb') # read test.txt file as binary format\n",
    "data = pickle.load(f)\n",
    "print(data)\n",
    "f.close()"
   ]
  },
  {
   "cell_type": "code",
   "execution_count": 8,
   "metadata": {},
   "outputs": [],
   "source": [
    "# Show enviroment variable\n",
    "\n",
    "import os\n",
    "#os.environ"
   ]
  },
  {
   "cell_type": "code",
   "execution_count": 11,
   "metadata": {},
   "outputs": [
    {
     "name": "stdout",
     "output_type": "stream",
     "text": [
      "0.08449331280211358\n",
      "1\n"
     ]
    }
   ],
   "source": [
    "# random\n",
    "\n",
    "import random\n",
    "print(random.random())\n",
    "\n",
    "print(random.randint(1,10))"
   ]
  },
  {
   "cell_type": "code",
   "execution_count": 12,
   "metadata": {},
   "outputs": [
    {
     "data": {
      "text/plain": [
       "True"
      ]
     },
     "execution_count": 12,
     "metadata": {},
     "output_type": "execute_result"
    }
   ],
   "source": [
    "import webbrowser\n",
    "webbrowser.open(\"http://google.com\")"
   ]
  },
  {
   "cell_type": "markdown",
   "metadata": {},
   "source": [
    "### Regular Expression"
   ]
  },
  {
   "cell_type": "code",
   "execution_count": 19,
   "metadata": {},
   "outputs": [
    {
     "name": "stdout",
     "output_type": "stream",
     "text": [
      "\n",
      "\n",
      "park 950103-1349318\n",
      "park\n",
      "950103-1349318\n",
      "kim  770103-1359319\n",
      "kim\n",
      "\n",
      "770103-1359319\n",
      "\n",
      "\n",
      "\n",
      "park 950103-*******\n",
      "kim  770103-*******\n",
      "\n"
     ]
    }
   ],
   "source": [
    "# Without Regular Expression\n",
    "\n",
    "data = \"\"\"\n",
    "park 950103-1349318\n",
    "kim  770103-1359319\n",
    "\"\"\"\n",
    "\n",
    "for line in data.split('\\n'):\n",
    "    print(line)\n",
    "    for word in line.split(' '):\n",
    "        print(word)\n",
    "\n",
    "result = []\n",
    "for line in data.split(\"\\n\"):\n",
    "    word_result = []\n",
    "    for word in line.split(\" \"):\n",
    "        if len(word) == 14 and word[:6].isdigit() and word[7:].isdigit():\n",
    "            word = word[:6] + \"-\" + \"*******\"\n",
    "        word_result.append(word)\n",
    "    result.append(\" \".join(word_result))\n",
    "print(\"\\n\".join(result))"
   ]
  },
  {
   "cell_type": "code",
   "execution_count": 21,
   "metadata": {},
   "outputs": [
    {
     "name": "stdout",
     "output_type": "stream",
     "text": [
      "\n",
      "park 800905-*******\n",
      "kim  700905-*******\n",
      "\n"
     ]
    }
   ],
   "source": [
    "# With Regular Expression\n",
    "\n",
    "import re \n",
    "\n",
    "data = \"\"\"\n",
    "park 800905-1049118\n",
    "kim  700905-1059119\n",
    "\"\"\"\n",
    "\n",
    "pattern = re.compile(\"(\\d{6})[-]\\d{7}\")\n",
    "print(pattern.sub(\"\\g<1>-*******\", data))"
   ]
  },
  {
   "cell_type": "markdown",
   "metadata": {},
   "source": [
    "[a-zA-Z] : 알파벳 모두\n",
    "[0-9] : 숫자\n",
    "\n",
    "a.b   -> \"a + 모든문자 + b\"\n",
    "a[.]b -> \"a + Dot(.)문자 + b\"\n",
    "\n",
    "### 반복\n",
    "ca*t  -> * 바로 앞에 있는 문자 a가 0부터 무한대로 반복될 수 있다는 의미이다.\n",
    "ca+t  -> +는 최소 1번 이상 반복될 때 사용한다. 즉 *가 반복 횟수 0부터라면 +는 반복 횟수 1부터인 것이다.\n",
    "\n",
    "※ {1,}은 +와 동일하고, {0,}은 *와 동일하다.\n",
    "\n",
    "ca{2}t     -> \"c + a(반드시 2번 반복) + t\"\n",
    "ca{2,5}t   -> \"c + a(2~5회 반복) + t\"\n",
    "\n",
    "ab?c   -> \"a + b(있어도 되고 없어도 된다) + c\"  ? 메타문자가 의미하는 것은 {0, 1} 이다.\n",
    "\n",
    "\n",
    "### 정규식을 이용한 문자열 검색\n",
    "Method\t                           목적\n",
    "match()\t   ->   문자열의 처음부터 정규식과 매치되는지 조사한다.\n",
    "search()   -> \t문자열 전체를 검색하여 정규식과 매치되는지 조사한다.\n",
    "findall()  -> \t정규식과 매치되는 모든 문자열(substring)을 리스트로 돌려준다.\n",
    "finditer() ->\t정규식과 매치되는 모든 문자열(substring)을 반복 가능한 객체로 돌려준다."
   ]
  }
 ],
 "metadata": {
  "kernelspec": {
   "display_name": "Python 3",
   "language": "python",
   "name": "python3"
  },
  "language_info": {
   "codemirror_mode": {
    "name": "ipython",
    "version": 3
   },
   "file_extension": ".py",
   "mimetype": "text/x-python",
   "name": "python",
   "nbconvert_exporter": "python",
   "pygments_lexer": "ipython3",
   "version": "3.8.3"
  }
 },
 "nbformat": 4,
 "nbformat_minor": 4
}
