{
 "cells": [
  {
   "cell_type": "markdown",
   "metadata": {},
   "source": [
    "### Function"
   ]
  },
  {
   "cell_type": "code",
   "execution_count": 23,
   "metadata": {},
   "outputs": [],
   "source": [
    "def add(*a):\n",
    "    result = 0\n",
    "    for i in a:\n",
    "        result += i\n",
    "    return result"
   ]
  },
  {
   "cell_type": "code",
   "execution_count": 24,
   "metadata": {},
   "outputs": [
    {
     "data": {
      "text/plain": [
       "6"
      ]
     },
     "execution_count": 24,
     "metadata": {},
     "output_type": "execute_result"
    }
   ],
   "source": [
    "add(1,2,3)"
   ]
  },
  {
   "cell_type": "markdown",
   "metadata": {},
   "source": [
    "### Input/Output"
   ]
  },
  {
   "cell_type": "code",
   "execution_count": 27,
   "metadata": {},
   "outputs": [
    {
     "name": "stdout",
     "output_type": "stream",
     "text": [
      "Insert a number: 3\n",
      "3\n"
     ]
    }
   ],
   "source": [
    "number = input(\"Insert a number: \")\n",
    "print(number)"
   ]
  },
  {
   "cell_type": "code",
   "execution_count": 29,
   "metadata": {},
   "outputs": [
    {
     "name": "stdout",
     "output_type": "stream",
     "text": [
      "lifeislike a chocolate box\n",
      "lifeislike a chocolate box\n"
     ]
    }
   ],
   "source": [
    "## String with double quotation is same as + operation\n",
    "print(\"life\" \"is\" \"like a box of chocolates\")\n",
    "print(\"life\"+\"is\"+\"like a box of chocolates\")"
   ]
  },
  {
   "cell_type": "markdown",
   "metadata": {},
   "source": [
    "### File read and write"
   ]
  },
  {
   "cell_type": "code",
   "execution_count": 31,
   "metadata": {},
   "outputs": [],
   "source": [
    "f = open(\"newfile.txt\", 'w')\n",
    "f.close()"
   ]
  },
  {
   "cell_type": "code",
   "execution_count": 33,
   "metadata": {},
   "outputs": [],
   "source": [
    "f = open(\"newfile.txt\", 'w')\n",
    "for i in range(1, 11):\n",
    "    data = \"%dth line.\\n\" % i\n",
    "    f.write(data)\n",
    "    \n",
    "f.close()"
   ]
  },
  {
   "cell_type": "code",
   "execution_count": 34,
   "metadata": {},
   "outputs": [
    {
     "name": "stdout",
     "output_type": "stream",
     "text": [
      "1th line.\n",
      "\n"
     ]
    }
   ],
   "source": [
    "# Read the first line\n",
    "\n",
    "f = open(\"newfile.txt\", 'r')\n",
    "line = f.readline()\n",
    "print(line)\n",
    "\n",
    "f.close()"
   ]
  },
  {
   "cell_type": "code",
   "execution_count": 36,
   "metadata": {},
   "outputs": [
    {
     "name": "stdout",
     "output_type": "stream",
     "text": [
      "1th line.\n",
      "\n",
      "2th line.\n",
      "\n",
      "3th line.\n",
      "\n",
      "4th line.\n",
      "\n",
      "5th line.\n",
      "\n",
      "6th line.\n",
      "\n",
      "7th line.\n",
      "\n",
      "8th line.\n",
      "\n",
      "9th line.\n",
      "\n",
      "10th line.\n",
      "\n"
     ]
    }
   ],
   "source": [
    "# Read all lines using While Loop\n",
    "\n",
    "f = open(\"newfile.txt\", 'r')\n",
    "while True:\n",
    "    line = f.readline()\n",
    "    if not line: break\n",
    "    print(line)\n",
    "    \n",
    "f.close()"
   ]
  },
  {
   "cell_type": "code",
   "execution_count": 40,
   "metadata": {},
   "outputs": [
    {
     "name": "stdout",
     "output_type": "stream",
     "text": [
      "1th line.\n",
      "\n",
      "2th line.\n",
      "\n",
      "3th line.\n",
      "\n",
      "4th line.\n",
      "\n",
      "5th line.\n",
      "\n",
      "6th line.\n",
      "\n",
      "7th line.\n",
      "\n",
      "8th line.\n",
      "\n",
      "9th line.\n",
      "\n",
      "10th line.\n",
      "\n",
      "['1th line.\\n', '2th line.\\n', '3th line.\\n', '4th line.\\n', '5th line.\\n', '6th line.\\n', '7th line.\\n', '8th line.\\n', '9th line.\\n', '10th line.\\n']\n"
     ]
    }
   ],
   "source": [
    "# readlines reads all lines of the file and returns list\n",
    "\n",
    "f = open(\"newfile.txt\", 'r')\n",
    "lines = f.readlines()\n",
    "for i in lines:\n",
    "    print(i)\n",
    "print(lines)\n",
    "\n",
    "f.close()"
   ]
  },
  {
   "cell_type": "code",
   "execution_count": 41,
   "metadata": {},
   "outputs": [
    {
     "name": "stdout",
     "output_type": "stream",
     "text": [
      "1th line.\n",
      "2th line.\n",
      "3th line.\n",
      "4th line.\n",
      "5th line.\n",
      "6th line.\n",
      "7th line.\n",
      "8th line.\n",
      "9th line.\n",
      "10th line.\n",
      "\n"
     ]
    }
   ],
   "source": [
    "# read returns all contents as string\n",
    "f = open(\"newfile.txt\", 'r')\n",
    "data = f.read()\n",
    "print(data)\n",
    "\n",
    "f.close()"
   ]
  },
  {
   "cell_type": "code",
   "execution_count": 42,
   "metadata": {},
   "outputs": [],
   "source": [
    "# In order to add more lines on the text, open with 'a' mode\n",
    "f = open(\"newfile.txt\",'a')\n",
    "for i in range(11, 20):\n",
    "    data = \"%dth line.\\n\" % i\n",
    "    f.write(data)\n",
    "    \n",
    "f.close()"
   ]
  },
  {
   "cell_type": "code",
   "execution_count": 46,
   "metadata": {},
   "outputs": [
    {
     "name": "stdout",
     "output_type": "stream",
     "text": [
      "1th line.\n",
      "2th line.\n",
      "3th line.\n",
      "4th line.\n",
      "5th line.\n",
      "6th line.\n",
      "7th line.\n",
      "8th line.\n",
      "9th line.\n",
      "10th line.\n",
      "11th line.\n",
      "12th line.\n",
      "13th line.\n",
      "14th line.\n",
      "15th line.\n",
      "16th line.\n",
      "17th line.\n",
      "18th line.\n",
      "19th line.\n",
      "\n"
     ]
    }
   ],
   "source": [
    "f = open(\"newfile.txt\", 'r')\n",
    "print(f.read())\n",
    "\n",
    "f.close()"
   ]
  },
  {
   "cell_type": "code",
   "execution_count": 52,
   "metadata": {},
   "outputs": [
    {
     "name": "stdout",
     "output_type": "stream",
     "text": [
      "Life is like a box of chocolates\n"
     ]
    }
   ],
   "source": [
    "# Use 'with' to autoamtically open and close the file\n",
    "\n",
    "with open(\"forest.txt\", \"w\") as f:\n",
    "    f.write(\"Life is like a box of chocolates\")\n",
    "    \n",
    "with open(\"forest.txt\",\"r\") as f:\n",
    "    print(f.read())"
   ]
  },
  {
   "cell_type": "markdown",
   "metadata": {},
   "source": [
    "### Class"
   ]
  },
  {
   "cell_type": "code",
   "execution_count": 55,
   "metadata": {},
   "outputs": [
    {
     "name": "stdout",
     "output_type": "stream",
     "text": [
      "3\n",
      "8\n",
      "18\n"
     ]
    }
   ],
   "source": [
    "class Calculator:\n",
    "    def __init__(self):\n",
    "        self.result = 0\n",
    "        \n",
    "    def add(self, num):\n",
    "        self.result += num\n",
    "        return self.result\n",
    "    \n",
    "cal1 = Calculator()\n",
    "print(cal1.add(3))\n",
    "print(cal1.add(5))\n",
    "print(cal1.add(10))"
   ]
  },
  {
   "cell_type": "code",
   "execution_count": 57,
   "metadata": {},
   "outputs": [
    {
     "name": "stdout",
     "output_type": "stream",
     "text": [
      "3\n"
     ]
    }
   ],
   "source": [
    "# Inheritance\n",
    "\n",
    "class Morecal(Calculator):\n",
    "    pass\n",
    "\n",
    "a = Morecal()\n",
    "a.add(1)\n",
    "print(a.add(2))"
   ]
  }
 ],
 "metadata": {
  "kernelspec": {
   "display_name": "Python 3",
   "language": "python",
   "name": "python3"
  },
  "language_info": {
   "codemirror_mode": {
    "name": "ipython",
    "version": 3
   },
   "file_extension": ".py",
   "mimetype": "text/x-python",
   "name": "python",
   "nbconvert_exporter": "python",
   "pygments_lexer": "ipython3",
   "version": "3.8.3"
  }
 },
 "nbformat": 4,
 "nbformat_minor": 4
}
